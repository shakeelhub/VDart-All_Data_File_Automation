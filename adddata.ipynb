{
 "cells": [
  {
   "cell_type": "code",
   "execution_count": 1,
   "id": "ab1302e4",
   "metadata": {},
   "outputs": [],
   "source": [
    "import pandas as pd\n",
    "import numpy as np\n",
    "import mysql.connector\n",
    "from datetime import date\n",
    "from datetime import datetime\n",
    "from sqlalchemy import create_engine\n",
    "import sys\n",
    "import os\n",
    "from openpyxl import load_workbook"
   ]
  },
  {
   "cell_type": "code",
   "execution_count": 2,
   "id": "f4b13f17",
   "metadata": {},
   "outputs": [],
   "source": [
    "df2022= pd.read_excel(\"2022 - Activity.xlsx\")"
   ]
  },
  {
   "cell_type": "code",
   "execution_count": 3,
   "id": "a9421c08",
   "metadata": {},
   "outputs": [],
   "source": [
    "df2023=pd.read_excel(\"2023 - Activity.xlsx\")"
   ]
  },
  {
   "cell_type": "code",
   "execution_count": 4,
   "id": "e278baf3",
   "metadata": {},
   "outputs": [
    {
     "data": {
      "text/plain": [
       "Index(['Year', 'Month', 'Date', 'Client', 'Employee ID', 'Status', 'Track',\n",
       "       'Ceipal_Name', 'Email ID', 'Role', 'Reporting To', 'Team Name', 'Jobs',\n",
       "       'Submissions', 'Internal Rejections', 'Pending Feedback',\n",
       "       'Client Submissions', 'Interview Schedules', 'Bulk Mail Sent Count',\n",
       "       'Bulk Mail Open Count', 'Search String Count', 'Career Builder',\n",
       "       'Monster', 'Dice', 'Internal DB', 'Total Views', 'G Suite_Total Emails',\n",
       "       'G Suite_Emails Sent', 'G Suite_Emails Received',\n",
       "       'Total Inbound No Of Calls ', 'Total Inbound Call Duration',\n",
       "       '>1 Minute Inbound Call', 'Total No Of OutboundCalls- Connected',\n",
       "       'Total Outbound Call Duration',\n",
       "       'Total No Of OutboundCalls-Not Connected Calls',\n",
       "       '>1 Minute Outbound Call', '>1 Minute Call Outbound Total Time',\n",
       "       'Avg HT', 'Closure', 'Week', 'Attendance'],\n",
       "      dtype='object')"
      ]
     },
     "execution_count": 4,
     "metadata": {},
     "output_type": "execute_result"
    }
   ],
   "source": [
    "df2022.columns"
   ]
  },
  {
   "cell_type": "code",
   "execution_count": 5,
   "id": "5eade6e7",
   "metadata": {},
   "outputs": [],
   "source": [
    "excel_to_sql_map = {\n",
    "    'Employee ID': 'emp_id',\n",
    "    'Ceipal_Name': 'employee_name',\n",
    "    'Date': 'date',\n",
    "    'Client': 'client',\n",
    "    'Status': 'status',\n",
    "    'Track': 'track',\n",
    "    'Email ID': 'email_id',\n",
    "    'Role': 'role',\n",
    "    'Reporting To': 'reporting_to',\n",
    "    'Team Name': 'team_name',\n",
    "    'Jobs': 'assigned_jobs',\n",
    "    'Submissions': 'submission',\n",
    "    'Internal Rejections': 'internal_rejections',\n",
    "    'Client Submissions': 'client_submissions',\n",
    "    'Interview Schedules': 'interviewer_schedules',\n",
    "    'Bulk Mail Sent Count': 'sent_count',\n",
    "    'Bulk Mail Open Count': 'open_count',\n",
    "    'Search String Count': 'search_string_count',\n",
    "    'Career Builder': 'career_builder',\n",
    "    'Monster': 'monster',\n",
    "    'Dice': 'dice',\n",
    "    'Internal DB': 'internal_db',\n",
    "    'Total Views': 'total_views',\n",
    "    'Total Inbound No Of Calls ': 'total_inbound_calls',\n",
    "    'Total Inbound Call Duration': 'total_inbound_duration',\n",
    "    '>1 Minute Inbound Call': 'inbound_calls_gt_1min',\n",
    "    'Total No Of OutboundCalls- Connected': 'total_outbound_calls_connected',\n",
    "    'Total No Of OutboundCalls-Not Connected Calls': 'total_outbound_calls_not_connected',\n",
    "    'Total Outbound Call Duration': 'total_outbound_duration',\n",
    "    '>1 Minute Outbound Call': 'outbound_calls_gt_1min',\n",
    "    '>1 Minute Call Outbound Total Time': 'outbound_duration_gt_1min',\n",
    "    'Closure': 'closure',\n",
    "    'Week': 'week',\n",
    "    'Attendance': 'attendance_type1',\n",
    "    'Starts': 'starts'  \n",
    "}\n"
   ]
  },
  {
   "cell_type": "code",
   "execution_count": 6,
   "id": "552cbc1d",
   "metadata": {},
   "outputs": [],
   "source": [
    "required_order = [\n",
    "    'emp_id', 'employee_name', 'date', 'client', 'status', 'track', 'email_id',\n",
    "    'role', 'reporting_to', 'team_name', 'assigned_jobs', 'submission',\n",
    "    'internal_rejections', 'client_submissions', 'interviewer_schedules',\n",
    "    'sent_count', 'open_count', 'search_string_count', 'career_builder', 'monster',\n",
    "    'dice', 'internal_db', 'total_views', 'total_inbound_calls',\n",
    "    'total_inbound_duration', 'inbound_calls_gt_1min', 'total_outbound_calls_connected',\n",
    "    'total_outbound_calls_not_connected', 'total_outbound_duration',\n",
    "    'outbound_calls_gt_1min', 'outbound_duration_gt_1min', 'closure', 'week',\n",
    "    'attendance_type1', 'starts'  # 'starts' added at the end\n",
    "]\n"
   ]
  },
  {
   "cell_type": "code",
   "execution_count": 7,
   "id": "ba9dee4c",
   "metadata": {},
   "outputs": [],
   "source": [
    "df2022.columns = df2022.columns.str.strip() "
   ]
  },
  {
   "cell_type": "code",
   "execution_count": 8,
   "id": "da6c2a25",
   "metadata": {},
   "outputs": [],
   "source": [
    "df2022 = df2022.rename(columns=excel_to_sql_map)"
   ]
  },
  {
   "cell_type": "code",
   "execution_count": 9,
   "id": "567209cc",
   "metadata": {},
   "outputs": [],
   "source": [
    "for col in required_order:\n",
    "    if col not in df2022.columns:\n",
    "        df2022[col] = None"
   ]
  },
  {
   "cell_type": "code",
   "execution_count": 10,
   "id": "157686b8",
   "metadata": {},
   "outputs": [],
   "source": [
    "df2022 = df2022[required_order]\n"
   ]
  },
  {
   "cell_type": "code",
   "execution_count": 11,
   "id": "2efe8189",
   "metadata": {},
   "outputs": [],
   "source": [
    "conn = mysql.connector.connect(\n",
    "        host=\"localhost\",\n",
    "        user=\"root\",\n",
    "        password=\"Admin@123\",\n",
    "    )\n",
    "cursor = conn.cursor()\n",
    "cursor.execute(\"use All_Data_File\")"
   ]
  },
  {
   "cell_type": "code",
   "execution_count": 12,
   "id": "a52e3b23",
   "metadata": {},
   "outputs": [],
   "source": [
    "for col in df2022.columns:\n",
    "    if pd.api.types.is_datetime64_any_dtype(df2022[col]):\n",
    "        df2022[col] = df2022[col].dt.strftime('%Y-%m-%d')\n"
   ]
  },
  {
   "cell_type": "code",
   "execution_count": 14,
   "id": "da1346ae-66fe-4411-9217-b55f8f1721a0",
   "metadata": {},
   "outputs": [],
   "source": [
    "for col in df2022.columns:\n",
    "    if str(df2022[col].dtype).startswith('int') or str(df2022[col].dtype).startswith('float'):\n",
    "        df2022[col] = df2022[col].fillna(0)\n",
    "    else:\n",
    "        df2022[col] = df2022[col].where(pd.notnull(df2022[col]), None)\n"
   ]
  },
  {
   "cell_type": "code",
   "execution_count": 15,
   "id": "3f5d4fb0",
   "metadata": {},
   "outputs": [
    {
     "name": "stdout",
     "output_type": "stream",
     "text": [
      "124446 rows inserted successfully using mysql-connector-python!\n"
     ]
    }
   ],
   "source": [
    "insert_stmt = (\n",
    "    \"INSERT INTO master_table (\" +\n",
    "    \", \".join(required_order) +\n",
    "    \") VALUES (\" +\n",
    "    \", \".join([\"%s\"] * len(required_order)) +\n",
    "    \")\"\n",
    ")\n",
    "\n",
    "data_to_insert = df2022.where(pd.notnull(df2022), None).values.tolist()\n",
    "cursor.executemany(insert_stmt, data_to_insert)\n",
    "conn.commit()\n",
    "print(f\"{cursor.rowcount} rows inserted successfully using mysql-connector-python!\")\n"
   ]
  },
  {
   "cell_type": "code",
   "execution_count": 16,
   "id": "83d30b32",
   "metadata": {},
   "outputs": [],
   "source": [
    "df2023.columns = df2023.columns.str.strip() "
   ]
  },
  {
   "cell_type": "code",
   "execution_count": 17,
   "id": "1b30ea7a",
   "metadata": {},
   "outputs": [],
   "source": [
    "df2023 = df2023.rename(columns=excel_to_sql_map)"
   ]
  },
  {
   "cell_type": "code",
   "execution_count": 18,
   "id": "9be1ecac",
   "metadata": {},
   "outputs": [],
   "source": [
    "for col in required_order:\n",
    "    if col not in df2023.columns:\n",
    "        df2023[col] = None"
   ]
  },
  {
   "cell_type": "code",
   "execution_count": 19,
   "id": "cac692f2",
   "metadata": {},
   "outputs": [],
   "source": [
    "df2023 = df2023[required_order]"
   ]
  },
  {
   "cell_type": "code",
   "execution_count": 20,
   "id": "c8540910",
   "metadata": {},
   "outputs": [],
   "source": [
    "for col in df2022.columns:\n",
    "    if pd.api.types.is_datetime64_any_dtype(df2023[col]):\n",
    "        df2023[col] = df2023[col].dt.strftime('%Y-%m-%d')\n"
   ]
  },
  {
   "cell_type": "code",
   "execution_count": 24,
   "id": "ab144713-b6a5-4844-be55-b4a7ef801ed0",
   "metadata": {},
   "outputs": [],
   "source": [
    "for col in df2023.columns:\n",
    "    if str(df2023[col].dtype).startswith('int') or str(df2023[col].dtype).startswith('float'):\n",
    "        df2023[col] = df2023[col].fillna(0)\n",
    "    else:\n",
    "        df2023[col] = df2023[col].where(pd.notnull(df2023[col]), None)"
   ]
  },
  {
   "cell_type": "code",
   "execution_count": 25,
   "id": "5b7103a8",
   "metadata": {},
   "outputs": [
    {
     "name": "stdout",
     "output_type": "stream",
     "text": [
      "108377 rows inserted successfully using mysql-connector-python!\n"
     ]
    }
   ],
   "source": [
    "insert_stmt = (\n",
    "    \"INSERT INTO master_table (\" +\n",
    "    \", \".join(required_order) +\n",
    "    \") VALUES (\" +\n",
    "    \", \".join([\"%s\"] * len(required_order)) +\n",
    "    \")\"\n",
    ")\n",
    "\n",
    "data_to_insert = df2023.where(pd.notnull(df2023), None).values.tolist()\n",
    "cursor.executemany(insert_stmt, data_to_insert)\n",
    "conn.commit()\n",
    "print(f\"{cursor.rowcount} rows inserted successfully using mysql-connector-python!\")\n"
   ]
  },
  {
   "cell_type": "code",
   "execution_count": null,
   "id": "822abc11-d451-4e8b-bd62-b73a4f012d1e",
   "metadata": {},
   "outputs": [],
   "source": []
  },
  {
   "cell_type": "code",
   "execution_count": null,
   "id": "4bb0a340-6586-455b-a03e-ac911d267750",
   "metadata": {},
   "outputs": [],
   "source": []
  }
 ],
 "metadata": {
  "kernelspec": {
   "display_name": "Python 3 (ipykernel)",
   "language": "python",
   "name": "python3"
  },
  "language_info": {
   "codemirror_mode": {
    "name": "ipython",
    "version": 3
   },
   "file_extension": ".py",
   "mimetype": "text/x-python",
   "name": "python",
   "nbconvert_exporter": "python",
   "pygments_lexer": "ipython3",
   "version": "3.13.5"
  }
 },
 "nbformat": 4,
 "nbformat_minor": 5
}
